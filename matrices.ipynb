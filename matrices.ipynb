{
  "nbformat": 4,
  "nbformat_minor": 0,
  "metadata": {
    "colab": {
      "provenance": [],
      "gpuType": "T4",
      "authorship_tag": "ABX9TyNrvL0ek/Uo3fNO1fbXBac/",
      "include_colab_link": true
    },
    "kernelspec": {
      "name": "python3",
      "display_name": "Python 3"
    },
    "language_info": {
      "name": "python"
    },
    "accelerator": "GPU"
  },
  "cells": [
    {
      "cell_type": "markdown",
      "metadata": {
        "id": "view-in-github",
        "colab_type": "text"
      },
      "source": [
        "<a href=\"https://colab.research.google.com/github/zuki2610/bigdata/blob/main/matrices.ipynb\" target=\"_parent\"><img src=\"https://colab.research.google.com/assets/colab-badge.svg\" alt=\"Open In Colab\"/></a>"
      ]
    },
    {
      "cell_type": "code",
      "execution_count": 1,
      "metadata": {
        "id": "UT0Os-wDE3O8"
      },
      "outputs": [],
      "source": [
        "## descargamos e instalamos jdk y apache spark\n",
        "%%capture\n",
        "!apt-get install openjdk-8-jdk-headless -qq > /dev/null\n",
        "!wget 'https://dlcdn.apache.org/spark/spark-3.3.1/spark-3.3.1-bin-hadoop3.tgz' -O 'spark-3.3.1-bin-hadoop3.tgz'\n",
        "!tar -xvf /content/spark-3.3.1-bin-hadoop3.tgz\n",
        "!pip install -q findspark\n",
        "!pip install pyspark\n",
        "import os\n",
        "import findspark\n",
        "## creamos las variables de entorno JAVA_HOME y SPARK_HOME\n",
        "os.environ['JAVA_HOME']='/usr/lib/jvm/java-8-openjdk-amd64'\n",
        "os.environ['SPARK_HOME']='/content/spark-3.3.1-bin-hadoop3'\n",
        "\n",
        "# Verify SPARK_HOME and py4j location\n",
        "print(f\"SPARK_HOME: {os.environ['SPARK_HOME']}\")\n",
        "spark_python_path = os.path.join(os.environ['SPARK_HOME'], \"python\")\n",
        "print(f\"Spark Python Path: {spark_python_path}\")\n",
        "\n",
        "# List the contents of the python/lib directory to check for py4j files\n",
        "!ls -l {spark_python_path}/lib\n",
        "\n",
        "#Nos integramos con nuestra nube de google drive\n",
        "from google.colab import drive\n",
        "drive.mount(\"/content/gdrive\")\n",
        "gdrive='content/gdrive/MyDrive/Datos'\n",
        "\n",
        "# Instead of findspark.init(), manually add Spark to sys.path\n",
        "import sys\n",
        "sys.path.insert(0, spark_python_path)\n",
        "sys.path.insert(0, os.path.join(spark_python_path, 'lib/py4j-0.10.9.5-src.zip')) # Add the specific py4j path\n",
        "\n",
        "# Now you should be able to import and use PySpark\n",
        "# For example:\n",
        "# from pyspark.sql import SparkSession\n",
        "# spark = SparkSession.builder.appName(\"MySparkApp\").getOrCreate()"
      ]
    },
    {
      "cell_type": "code",
      "source": [
        "#Creamos la sesion\n",
        "from pyspark.sql import SparkSession\n",
        "spark = SparkSession.builder.appName(\"csvAnalizandoMatrices\").getOrCreate()"
      ],
      "metadata": {
        "id": "g_Dt2SIfGrtH"
      },
      "execution_count": null,
      "outputs": []
    }
  ]
}