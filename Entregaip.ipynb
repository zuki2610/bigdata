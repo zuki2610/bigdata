{
  "nbformat": 4,
  "nbformat_minor": 0,
  "metadata": {
    "colab": {
      "provenance": [],
      "authorship_tag": "ABX9TyMVI4D/sbxdxVgmbBk8I3qV",
      "include_colab_link": true
    },
    "kernelspec": {
      "name": "python3",
      "display_name": "Python 3"
    },
    "language_info": {
      "name": "python"
    }
  },
  "cells": [
    {
      "cell_type": "markdown",
      "metadata": {
        "id": "view-in-github",
        "colab_type": "text"
      },
      "source": [
        "<a href=\"https://colab.research.google.com/github/zuki2610/bigdata/blob/main/Entregaip.ipynb\" target=\"_parent\"><img src=\"https://colab.research.google.com/assets/colab-badge.svg\" alt=\"Open In Colab\"/></a>"
      ]
    },
    {
      "cell_type": "code",
      "execution_count": 2,
      "metadata": {
        "colab": {
          "base_uri": "https://localhost:8080/"
        },
        "id": "D3-93__bICMW",
        "outputId": "12010ea1-f14a-4530-a0ba-b18e284f3bd7"
      },
      "outputs": [
        {
          "output_type": "stream",
          "name": "stdout",
          "text": [
            "Requirement already satisfied: pyspark in /usr/local/lib/python3.10/dist-packages (3.5.3)\n",
            "Requirement already satisfied: py4j==0.10.9.7 in /usr/local/lib/python3.10/dist-packages (from pyspark) (0.10.9.7)\n",
            "Drive already mounted at /content/drive; to attempt to forcibly remount, call drive.mount(\"/content/drive\", force_remount=True).\n"
          ]
        }
      ],
      "source": [
        "# Instalar PySpark en el entorno de Google Colab\n",
        "!pip install pyspark\n",
        "\n",
        "# Importar PySpark y otras librerías necesarias\n",
        "from pyspark.sql import SparkSession\n",
        "from pyspark.sql.functions import col, avg, max, min, countDistinct\n",
        "\n",
        "# Montar Google Drive\n",
        "from google.colab import drive\n",
        "drive.mount('/content/drive')\n",
        "\n"
      ]
    },
    {
      "cell_type": "code",
      "source": [
        "\n",
        "# Ruta a los archivos en la carpeta \"Datos\" de tu Google Drive\n",
        "ruta_segmentacion = \"/content/drive/My Drive/Datos/Segmentacion.csv\"\n",
        "ruta_precios = \"/content/drive/My Drive/Datos/Precios.csv\"\n",
        "\n",
        "# Crear una sesión de Spark\n",
        "spark = SparkSession.builder.appName(\"PySpark Example\").getOrCreate()\n",
        "\n",
        "# Cargar los archivos CSV en DataFrames de PySpark\n",
        "segmentacion_df = spark.read.csv(ruta_segmentacion, header=True, inferSchema=True)\n",
        "precios_df = spark.read.csv(ruta_precios, header=True, inferSchema=True)\n",
        "\n",
        "# Mostrar una vista previa de los datos\n",
        "print(\"Vista previa de la segmentación:\")\n",
        "segmentacion_df.show(5)\n",
        "print(\"Vista previa de los precios:\")\n",
        "precios_df.show(5)\n",
        "\n",
        "# *1. Validar cuántos registros tienen ambos archivos*\n",
        "segmentacion_count = segmentacion_df.count()\n",
        "precios_count = precios_df.count()\n",
        "\n",
        "print(f\"Registros en segmentación: {segmentacion_count}\")\n",
        "print(f\"Registros en precios: {precios_count}\")"
      ],
      "metadata": {
        "colab": {
          "base_uri": "https://localhost:8080/"
        },
        "id": "84j9k-SxJdhH",
        "outputId": "2d87e5f3-84b9-4281-9b5d-04e7bb4afa68"
      },
      "execution_count": 3,
      "outputs": [
        {
          "output_type": "stream",
          "name": "stdout",
          "text": [
            "Vista previa de la segmentación:\n",
            "+--------+--------+\n",
            "| RUT_CLI|SEGMENTO|\n",
            "+--------+--------+\n",
            "|96635170|       1|\n",
            "|76256513|       1|\n",
            "|77108943|       1|\n",
            "|92975000|       1|\n",
            "|89201400|       1|\n",
            "+--------+--------+\n",
            "only showing top 5 rows\n",
            "\n",
            "Vista previa de los precios:\n",
            "+-----+---+------+------------------+\n",
            "|GROUP|FAM|SUBFAM|             VALUE|\n",
            "+-----+---+------+------------------+\n",
            "|    0|  1|     1|0.2350543478260869|\n",
            "|    0|  1|     1| 0.198444661032879|\n",
            "|    0|  1|     1|0.2919982088695311|\n",
            "|    0|  1|     1|0.2272116796417313|\n",
            "|    0|  1|     1|0.2518425219231205|\n",
            "+-----+---+------+------------------+\n",
            "only showing top 5 rows\n",
            "\n",
            "Registros en segmentación: 126104\n",
            "Registros en precios: 11018159\n"
          ]
        }
      ]
    },
    {
      "cell_type": "code",
      "source": [
        "# *2. Realizar una partición de la matriz precio por familia-subfamilia*\n",
        "precios_partitioned = precios_df.repartition(\"fam\", \"subfam\")\n",
        "print(\"Matriz de precios particionada por familia y subfamilia.\")\n",
        "print(precios_partitioned.show())"
      ],
      "metadata": {
        "colab": {
          "base_uri": "https://localhost:8080/"
        },
        "id": "iBYWJHhOJdrO",
        "outputId": "332f63d7-77ee-4bb4-90d6-063c962073fd"
      },
      "execution_count": 7,
      "outputs": [
        {
          "output_type": "stream",
          "name": "stdout",
          "text": [
            "Matriz de precios particionada por familia y subfamilia.\n",
            "+-----+---+------+------------------+\n",
            "|GROUP|FAM|SUBFAM|             VALUE|\n",
            "+-----+---+------+------------------+\n",
            "|    0| 10|     2|0.3857003916848538|\n",
            "|    0| 10|     2|0.3677940968114483|\n",
            "|    0| 10|     2|0.3901394142121732|\n",
            "|    0| 10|     2|0.3030408779958913|\n",
            "|    0| 10|     2|0.3586941963298005|\n",
            "|    0| 10|     2|0.3612035640135574|\n",
            "|    0| 10|     2|0.3106493323990148|\n",
            "|    0| 10|     2|0.1715160796324655|\n",
            "|    0| 10|     2|0.3618363058629711|\n",
            "|    0| 10|     2|0.1961770267341639|\n",
            "|    0| 10|     2|0.4078984485190409|\n",
            "|    0| 10|     2|0.3257364115216078|\n",
            "|    0| 10|     2|0.3437300811423489|\n",
            "|    0| 10|     2|0.3431603096604355|\n",
            "|    0| 10|     2|0.2839106891413789|\n",
            "|    0| 10|     2|0.3891248934304149|\n",
            "|    0| 10|     2|0.3099415204678363|\n",
            "|    0| 10|     2|0.3975318912922906|\n",
            "|    0| 10|     2|0.3833524561218172|\n",
            "|    0| 10|     2|0.3093344534992925|\n",
            "+-----+---+------+------------------+\n",
            "only showing top 20 rows\n",
            "\n",
            "None\n"
          ]
        }
      ]
    },
    {
      "cell_type": "code",
      "source": [
        "#3 Validar que los valores (márgenes) estén entre 0.1 y 1\n",
        "valid_margins = precios_df.filter((col(\"value\") >= 0.1) & (col(\"value\") <= 1))\n",
        "\n",
        "# Contar cuántos registros tienen márgenes válidos\n",
        "valid_margins_count = valid_margins.count()\n",
        "\n",
        "# Contar el total de registros\n",
        "total_count = precios_df.count()\n",
        "\n",
        "print(f\"Registros con márgenes válidos (0.1 a 1): {valid_margins_count}\")\n",
        "print(f\"Total de registros en el DataFrame: {total_count}\")\n",
        "print(f\"Porcentaje de márgenes válidos: {100 * valid_margins_count / total_count:.2f}%\")"
      ],
      "metadata": {
        "colab": {
          "base_uri": "https://localhost:8080/"
        },
        "id": "xt2RuUFBOmZ1",
        "outputId": "27b8c9b3-6458-4af5-afa4-6ed14c82c4ac"
      },
      "execution_count": 10,
      "outputs": [
        {
          "output_type": "stream",
          "name": "stdout",
          "text": [
            "Registros con márgenes válidos (0.1 a 1): 11018159\n",
            "Total de registros en el DataFrame: 11018159\n",
            "Porcentaje de márgenes válidos: 100.00%\n"
          ]
        }
      ]
    },
    {
      "cell_type": "code",
      "source": [
        "from pyspark.sql.functions import col, max, avg, min\n",
        "\n",
        "# Realizar la unión entre los DataFrames en SEGMENTO y GROUP\n",
        "segmentacion_precios_df = segmentacion_df.join(\n",
        "    precios_df,\n",
        "    segmentacion_df[\"SEGMENTO\"] == precios_df[\"GROUP\"],\n",
        "    \"inner\"\n",
        ")\n",
        "\n",
        "# Filtrar los registros para el RUT_CLI = 66666666\n",
        "rut_66666666_df = segmentacion_precios_df.filter(col(\"RUT_CLI\") == 66666666)\n",
        "\n",
        "# Calcular márgenes (valores) máximos, promedios y mínimos\n",
        "margen_estadisticas = rut_66666666_df.agg(\n",
        "    max(\"VALUE\").alias(\"margen_maximo\"),\n",
        "    avg(\"VALUE\").alias(\"margen_promedio\"),\n",
        "    min(\"VALUE\").alias(\"margen_minimo\")\n",
        ").collect()\n",
        "\n",
        "# Extraer los resultados\n",
        "margen_maximo = margen_estadisticas[0][\"margen_maximo\"]\n",
        "margen_promedio = margen_estadisticas[0][\"margen_promedio\"]\n",
        "margen_minimo = margen_estadisticas[0][\"margen_minimo\"]\n",
        "\n",
        "# Mostrar resultados\n",
        "print(f\"Márgenes para el RUT_CLI 66666666:\")\n",
        "print(f\"Máximo: {margen_maximo}\")\n",
        "print(f\"Promedio: {margen_promedio}\")\n",
        "print(f\"Mínimo: {margen_minimo}\")"
      ],
      "metadata": {
        "id": "SZCl6nOQX2Wt"
      },
      "execution_count": null,
      "outputs": []
    },
    {
      "cell_type": "code",
      "source": [
        "from pyspark.sql.functions import col, countDistinct, avg\n",
        "\n",
        "'''\n",
        "# Cargar los archivos CSV en DataFrames de PySpark\n",
        "segmentacion_df = spark.read.csv(ruta_segmentacion, header=True, inferSchema=True)\n",
        "precios_df = spark.read.csv(ruta_precios, header=True, inferSchema=True)\n",
        "\n",
        "# Mostrar una vista previa de los datos\n",
        "print(\"Vista previa de la segmentación:\")\n",
        "segmentacion_df.show(5)\n",
        "print(\"Vista previa de los precios:\")\n",
        "precios_df.show(5)\n",
        "'''\n",
        "# Realizar la unión entre los DataFrames en GROUP y SEGMENTO\n",
        "segmentacion_precios_df = precios_df.join(\n",
        "    segmentacion_df,\n",
        "    segmentacion_df[\"SEGMENTO\"] == precios_df[\"GROUP\"],\n",
        "    \"inner\"\n",
        ")\n",
        "\n",
        "# Contar clientes únicos (RUT_CLI) por grupo (GROUP)\n",
        "clientes_por_grupo = segmentacion_precios_df.groupBy(\"GROUP\").agg(\n",
        "    countDistinct(\"RUT_CLI\").alias(\"clientes_unicos\")\n",
        ")\n",
        "\n",
        "# Calcular el promedio de clientes únicos por grupo\n",
        "promedio_clientes_por_grupo = clientes_por_grupo.agg(\n",
        "    avg(\"clientes_unicos\").alias(\"promedio_clientes\")\n",
        ").collect()[0][\"promedio_clientes\"]\n",
        "\n",
        "print(f\"Promedio de clientes únicos por grupo: {promedio_clientes_por_grupo}\")\n"
      ],
      "metadata": {
        "colab": {
          "base_uri": "https://localhost:8080/",
          "height": 536
        },
        "id": "ssaPx4MdK5FK",
        "outputId": "a4eaccc0-95d3-42d3-f7cf-1168bae4ea7c"
      },
      "execution_count": 22,
      "outputs": [
        {
          "output_type": "stream",
          "name": "stderr",
          "text": [
            "ERROR:root:KeyboardInterrupt while sending command.\n",
            "Traceback (most recent call last):\n",
            "  File \"/usr/local/lib/python3.10/dist-packages/py4j/java_gateway.py\", line 1038, in send_command\n",
            "    response = connection.send_command(command)\n",
            "  File \"/usr/local/lib/python3.10/dist-packages/py4j/clientserver.py\", line 511, in send_command\n",
            "    answer = smart_decode(self.stream.readline()[:-1])\n",
            "  File \"/usr/lib/python3.10/socket.py\", line 705, in readinto\n",
            "    return self._sock.recv_into(b)\n",
            "KeyboardInterrupt\n"
          ]
        },
        {
          "output_type": "error",
          "ename": "KeyboardInterrupt",
          "evalue": "",
          "traceback": [
            "\u001b[0;31m---------------------------------------------------------------------------\u001b[0m",
            "\u001b[0;31mKeyboardInterrupt\u001b[0m                         Traceback (most recent call last)",
            "\u001b[0;32m<ipython-input-22-8c8c6b202161>\u001b[0m in \u001b[0;36m<cell line: 27>\u001b[0;34m()\u001b[0m\n\u001b[1;32m     27\u001b[0m promedio_clientes_por_grupo = clientes_por_grupo.agg(\n\u001b[1;32m     28\u001b[0m     \u001b[0mavg\u001b[0m\u001b[0;34m(\u001b[0m\u001b[0;34m\"clientes_unicos\"\u001b[0m\u001b[0;34m)\u001b[0m\u001b[0;34m.\u001b[0m\u001b[0malias\u001b[0m\u001b[0;34m(\u001b[0m\u001b[0;34m\"promedio_clientes\"\u001b[0m\u001b[0;34m)\u001b[0m\u001b[0;34m\u001b[0m\u001b[0;34m\u001b[0m\u001b[0m\n\u001b[0;32m---> 29\u001b[0;31m ).collect()[0][\"promedio_clientes\"]\n\u001b[0m\u001b[1;32m     30\u001b[0m \u001b[0;34m\u001b[0m\u001b[0m\n\u001b[1;32m     31\u001b[0m \u001b[0mprint\u001b[0m\u001b[0;34m(\u001b[0m\u001b[0;34mf\"Promedio de clientes únicos por grupo: {promedio_clientes_por_grupo}\"\u001b[0m\u001b[0;34m)\u001b[0m\u001b[0;34m\u001b[0m\u001b[0;34m\u001b[0m\u001b[0m\n",
            "\u001b[0;32m/usr/local/lib/python3.10/dist-packages/pyspark/sql/dataframe.py\u001b[0m in \u001b[0;36mcollect\u001b[0;34m(self)\u001b[0m\n\u001b[1;32m   1261\u001b[0m         \"\"\"\n\u001b[1;32m   1262\u001b[0m         \u001b[0;32mwith\u001b[0m \u001b[0mSCCallSiteSync\u001b[0m\u001b[0;34m(\u001b[0m\u001b[0mself\u001b[0m\u001b[0;34m.\u001b[0m\u001b[0m_sc\u001b[0m\u001b[0;34m)\u001b[0m\u001b[0;34m:\u001b[0m\u001b[0;34m\u001b[0m\u001b[0;34m\u001b[0m\u001b[0m\n\u001b[0;32m-> 1263\u001b[0;31m             \u001b[0msock_info\u001b[0m \u001b[0;34m=\u001b[0m \u001b[0mself\u001b[0m\u001b[0;34m.\u001b[0m\u001b[0m_jdf\u001b[0m\u001b[0;34m.\u001b[0m\u001b[0mcollectToPython\u001b[0m\u001b[0;34m(\u001b[0m\u001b[0;34m)\u001b[0m\u001b[0;34m\u001b[0m\u001b[0;34m\u001b[0m\u001b[0m\n\u001b[0m\u001b[1;32m   1264\u001b[0m         \u001b[0;32mreturn\u001b[0m \u001b[0mlist\u001b[0m\u001b[0;34m(\u001b[0m\u001b[0m_load_from_socket\u001b[0m\u001b[0;34m(\u001b[0m\u001b[0msock_info\u001b[0m\u001b[0;34m,\u001b[0m \u001b[0mBatchedSerializer\u001b[0m\u001b[0;34m(\u001b[0m\u001b[0mCPickleSerializer\u001b[0m\u001b[0;34m(\u001b[0m\u001b[0;34m)\u001b[0m\u001b[0;34m)\u001b[0m\u001b[0;34m)\u001b[0m\u001b[0;34m)\u001b[0m\u001b[0;34m\u001b[0m\u001b[0;34m\u001b[0m\u001b[0m\n\u001b[1;32m   1265\u001b[0m \u001b[0;34m\u001b[0m\u001b[0m\n",
            "\u001b[0;32m/usr/local/lib/python3.10/dist-packages/py4j/java_gateway.py\u001b[0m in \u001b[0;36m__call__\u001b[0;34m(self, *args)\u001b[0m\n\u001b[1;32m   1319\u001b[0m             \u001b[0mproto\u001b[0m\u001b[0;34m.\u001b[0m\u001b[0mEND_COMMAND_PART\u001b[0m\u001b[0;34m\u001b[0m\u001b[0;34m\u001b[0m\u001b[0m\n\u001b[1;32m   1320\u001b[0m \u001b[0;34m\u001b[0m\u001b[0m\n\u001b[0;32m-> 1321\u001b[0;31m         \u001b[0manswer\u001b[0m \u001b[0;34m=\u001b[0m \u001b[0mself\u001b[0m\u001b[0;34m.\u001b[0m\u001b[0mgateway_client\u001b[0m\u001b[0;34m.\u001b[0m\u001b[0msend_command\u001b[0m\u001b[0;34m(\u001b[0m\u001b[0mcommand\u001b[0m\u001b[0;34m)\u001b[0m\u001b[0;34m\u001b[0m\u001b[0;34m\u001b[0m\u001b[0m\n\u001b[0m\u001b[1;32m   1322\u001b[0m         return_value = get_return_value(\n\u001b[1;32m   1323\u001b[0m             answer, self.gateway_client, self.target_id, self.name)\n",
            "\u001b[0;32m/usr/local/lib/python3.10/dist-packages/py4j/java_gateway.py\u001b[0m in \u001b[0;36msend_command\u001b[0;34m(self, command, retry, binary)\u001b[0m\n\u001b[1;32m   1036\u001b[0m         \u001b[0mconnection\u001b[0m \u001b[0;34m=\u001b[0m \u001b[0mself\u001b[0m\u001b[0;34m.\u001b[0m\u001b[0m_get_connection\u001b[0m\u001b[0;34m(\u001b[0m\u001b[0;34m)\u001b[0m\u001b[0;34m\u001b[0m\u001b[0;34m\u001b[0m\u001b[0m\n\u001b[1;32m   1037\u001b[0m         \u001b[0;32mtry\u001b[0m\u001b[0;34m:\u001b[0m\u001b[0;34m\u001b[0m\u001b[0;34m\u001b[0m\u001b[0m\n\u001b[0;32m-> 1038\u001b[0;31m             \u001b[0mresponse\u001b[0m \u001b[0;34m=\u001b[0m \u001b[0mconnection\u001b[0m\u001b[0;34m.\u001b[0m\u001b[0msend_command\u001b[0m\u001b[0;34m(\u001b[0m\u001b[0mcommand\u001b[0m\u001b[0;34m)\u001b[0m\u001b[0;34m\u001b[0m\u001b[0;34m\u001b[0m\u001b[0m\n\u001b[0m\u001b[1;32m   1039\u001b[0m             \u001b[0;32mif\u001b[0m \u001b[0mbinary\u001b[0m\u001b[0;34m:\u001b[0m\u001b[0;34m\u001b[0m\u001b[0;34m\u001b[0m\u001b[0m\n\u001b[1;32m   1040\u001b[0m                 \u001b[0;32mreturn\u001b[0m \u001b[0mresponse\u001b[0m\u001b[0;34m,\u001b[0m \u001b[0mself\u001b[0m\u001b[0;34m.\u001b[0m\u001b[0m_create_connection_guard\u001b[0m\u001b[0;34m(\u001b[0m\u001b[0mconnection\u001b[0m\u001b[0;34m)\u001b[0m\u001b[0;34m\u001b[0m\u001b[0;34m\u001b[0m\u001b[0m\n",
            "\u001b[0;32m/usr/local/lib/python3.10/dist-packages/py4j/clientserver.py\u001b[0m in \u001b[0;36msend_command\u001b[0;34m(self, command)\u001b[0m\n\u001b[1;32m    509\u001b[0m         \u001b[0;32mtry\u001b[0m\u001b[0;34m:\u001b[0m\u001b[0;34m\u001b[0m\u001b[0;34m\u001b[0m\u001b[0m\n\u001b[1;32m    510\u001b[0m             \u001b[0;32mwhile\u001b[0m \u001b[0;32mTrue\u001b[0m\u001b[0;34m:\u001b[0m\u001b[0;34m\u001b[0m\u001b[0;34m\u001b[0m\u001b[0m\n\u001b[0;32m--> 511\u001b[0;31m                 \u001b[0manswer\u001b[0m \u001b[0;34m=\u001b[0m \u001b[0msmart_decode\u001b[0m\u001b[0;34m(\u001b[0m\u001b[0mself\u001b[0m\u001b[0;34m.\u001b[0m\u001b[0mstream\u001b[0m\u001b[0;34m.\u001b[0m\u001b[0mreadline\u001b[0m\u001b[0;34m(\u001b[0m\u001b[0;34m)\u001b[0m\u001b[0;34m[\u001b[0m\u001b[0;34m:\u001b[0m\u001b[0;34m-\u001b[0m\u001b[0;36m1\u001b[0m\u001b[0;34m]\u001b[0m\u001b[0;34m)\u001b[0m\u001b[0;34m\u001b[0m\u001b[0;34m\u001b[0m\u001b[0m\n\u001b[0m\u001b[1;32m    512\u001b[0m                 \u001b[0mlogger\u001b[0m\u001b[0;34m.\u001b[0m\u001b[0mdebug\u001b[0m\u001b[0;34m(\u001b[0m\u001b[0;34m\"Answer received: {0}\"\u001b[0m\u001b[0;34m.\u001b[0m\u001b[0mformat\u001b[0m\u001b[0;34m(\u001b[0m\u001b[0manswer\u001b[0m\u001b[0;34m)\u001b[0m\u001b[0;34m)\u001b[0m\u001b[0;34m\u001b[0m\u001b[0;34m\u001b[0m\u001b[0m\n\u001b[1;32m    513\u001b[0m                 \u001b[0;31m# Happens when a the other end is dead. There might be an empty\u001b[0m\u001b[0;34m\u001b[0m\u001b[0;34m\u001b[0m\u001b[0m\n",
            "\u001b[0;32m/usr/lib/python3.10/socket.py\u001b[0m in \u001b[0;36mreadinto\u001b[0;34m(self, b)\u001b[0m\n\u001b[1;32m    703\u001b[0m         \u001b[0;32mwhile\u001b[0m \u001b[0;32mTrue\u001b[0m\u001b[0;34m:\u001b[0m\u001b[0;34m\u001b[0m\u001b[0;34m\u001b[0m\u001b[0m\n\u001b[1;32m    704\u001b[0m             \u001b[0;32mtry\u001b[0m\u001b[0;34m:\u001b[0m\u001b[0;34m\u001b[0m\u001b[0;34m\u001b[0m\u001b[0m\n\u001b[0;32m--> 705\u001b[0;31m                 \u001b[0;32mreturn\u001b[0m \u001b[0mself\u001b[0m\u001b[0;34m.\u001b[0m\u001b[0m_sock\u001b[0m\u001b[0;34m.\u001b[0m\u001b[0mrecv_into\u001b[0m\u001b[0;34m(\u001b[0m\u001b[0mb\u001b[0m\u001b[0;34m)\u001b[0m\u001b[0;34m\u001b[0m\u001b[0;34m\u001b[0m\u001b[0m\n\u001b[0m\u001b[1;32m    706\u001b[0m             \u001b[0;32mexcept\u001b[0m \u001b[0mtimeout\u001b[0m\u001b[0;34m:\u001b[0m\u001b[0;34m\u001b[0m\u001b[0;34m\u001b[0m\u001b[0m\n\u001b[1;32m    707\u001b[0m                 \u001b[0mself\u001b[0m\u001b[0;34m.\u001b[0m\u001b[0m_timeout_occurred\u001b[0m \u001b[0;34m=\u001b[0m \u001b[0;32mTrue\u001b[0m\u001b[0;34m\u001b[0m\u001b[0;34m\u001b[0m\u001b[0m\n",
            "\u001b[0;31mKeyboardInterrupt\u001b[0m: "
          ]
        }
      ]
    },
    {
      "cell_type": "code",
      "source": [
        "# *5. Calcular márgenes máximos, promedios, mínimos para el rut 66666666*\n",
        "# Filtrar el rut 66666666\n",
        "rut_66666666 = precios_df.filter(col(\"rut\") == 66666666)\n",
        "\n",
        "margen_estadisticas = rut_66666666.agg(\n",
        "    max(\"margen\").alias(\"margen_maximo\"),\n",
        "    avg(\"margen\").alias(\"margen_promedio\"),\n",
        "    min(\"margen\").alias(\"margen_minimo\")\n",
        ").collect()\n",
        "\n",
        "print(f\"Márgenes para el rut 66666666: Máximo = {margen_estadisticas[0]['margen_maximo']}, Promedio = {margen_estadisticas[0]['margen_promedio']}, Mínimo = {margen_estadisticas[0]['margen_minimo']}\")"
      ],
      "metadata": {
        "id": "seTjEU3IO7H5"
      },
      "execution_count": null,
      "outputs": []
    }
  ]
}